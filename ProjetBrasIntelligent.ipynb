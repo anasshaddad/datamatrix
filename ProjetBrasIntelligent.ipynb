{
  "nbformat": 4,
  "nbformat_minor": 0,
  "metadata": {
    "colab": {
      "name": "ProjetPFE.ipynb",
      "provenance": [],
      "authorship_tag": "ABX9TyOXV20CZMmzLZYOL1dasEwC",
      "include_colab_link": true
    },
    "kernelspec": {
      "name": "python3",
      "display_name": "Python 3"
    }
  },
  "cells": [
    {
      "cell_type": "markdown",
      "metadata": {
        "id": "view-in-github",
        "colab_type": "text"
      },
      "source": [
        "<a href=\"https://colab.research.google.com/github/anasshaddad/datamatrix/blob/master/ProjetBrasIntelligent.ipynb\" target=\"_parent\"><img src=\"https://colab.research.google.com/assets/colab-badge.svg\" alt=\"Open In Colab\"/></a>"
      ]
    },
    {
      "cell_type": "code",
      "metadata": {
        "id": "2T11H-gQAE_T"
      },
      "source": [
        "import tensorflow as tf\n",
        "from tensorflow import keras\n",
        "import pandas as pd\n",
        "import matplotlib.pyplot as plt\n",
        "from keras_retinanet import models\n"
      ],
      "execution_count": null,
      "outputs": []
    },
    {
      "cell_type": "code",
      "metadata": {
        "id": "nWfuP_y0A1aD"
      },
      "source": [
        "drive.mount('/content/drive')\n",
        "get_ipython().system('unzip -uq \"/content/drive/My Drive/Datamatrix.zip\" -d \"/content/drive/My Drive/D\"')\n",
        "\n",
        "path=\"/content/drive/My Drive/D/Datamatrix/train_labels.csv\"\n",
        "t=pd.read_csv(path)"
      ],
      "execution_count": null,
      "outputs": []
    },
    {
      "cell_type": "code",
      "metadata": {
        "id": "AR3sz9qXA4Yu"
      },
      "source": [
        "train_df, test_df = train_test_split(\n",
        " t,\n",
        "  test_size=0.2,\n",
        " \n",
        ")"
      ],
      "execution_count": null,
      "outputs": []
    },
    {
      "cell_type": "code",
      "metadata": {
        "id": "5A_n_q8tF2rZ"
      },
      "source": [
        "from google.colab import files\n",
        "uploaded = files.upload()"
      ],
      "execution_count": null,
      "outputs": []
    },
    {
      "cell_type": "markdown",
      "metadata": {
        "id": "Bnbs0W-7Fs5q"
      },
      "source": [
        ""
      ]
    },
    {
      "cell_type": "code",
      "metadata": {
        "id": "2JNMFKY4A5Q3"
      },
      "source": [
        "CLASSES_FILE = 'classes.csv'\n",
        "classes = set(['datamatrix'])\n",
        "\n",
        "with open(CLASSES_FILE, 'w') as f:\n",
        "  for i, line in enumerate(sorted(classes)):\n",
        "    f.write('{},{}\\n'.format(line,i))\n",
        "\n",
        "ANNOTATIONS_FILE = 'annotations.csv'\n",
        "train_df.to_csv(ANNOTATIONS_FILE, index=False, header=None)"
      ],
      "execution_count": null,
      "outputs": []
    },
    {
      "cell_type": "code",
      "metadata": {
        "id": "v8j9WYrvHH5t"
      },
      "source": [
        ""
      ],
      "execution_count": null,
      "outputs": []
    },
    {
      "cell_type": "code",
      "metadata": {
        "id": "HrA6gO16Hu4Q"
      },
      "source": [
        ""
      ],
      "execution_count": null,
      "outputs": []
    },
    {
      "cell_type": "code",
      "metadata": {
        "id": "Fvzb7xDHBLpH"
      },
      "source": [
        "os.makedirs(\"snapshots\", exist_ok=True)\n",
        "PRETRAINED_MODEL = './snapshots/_pretrained_model.h5'\n",
        "\n",
        "URL_MODEL = 'https://github.com/fizyr/keras-retinanet/releases/download/0.5.1/resnet50_coco_best_v2.1.0.h5'\n",
        "urllib.request.urlretrieve(URL_MODEL, PRETRAINED_MODEL)"
      ],
      "execution_count": null,
      "outputs": []
    },
    {
      "cell_type": "code",
      "metadata": {
        "id": "CFDEN7R2BSJ_"
      },
      "source": [
        "get_ipython().system('keras_retinanet/bin/train.py'\n",
        "--freeze-backbone  \n",
        "--random-transform  \n",
        "--weights {PRETRAINED_MODEL}  \n",
        "--batch-size 1  --steps 60  \n",
        "--epochs 50  \n",
        "csv annotations.csv classes.csv)"
      ],
      "execution_count": null,
      "outputs": []
    },
    {
      "cell_type": "code",
      "metadata": {
        "id": "upxHsBbEIp3b"
      },
      "source": [
        "import numpy as np\n",
        "import tensorflow as tf\n",
        "from tensorflow import keras\n",
        "import pandas as pd\n",
        "import seaborn as sns\n",
        "from pylab import rcParams\n",
        "import matplotlib.pyplot as plt\n",
        "from matplotlib import rc\n",
        "from pandas.plotting import register_matplotlib_converters\n",
        "from sklearn.model_selection import train_test_split\n",
        "import urllib\n",
        "import os\n",
        "import csv\n",
        "import cv2\n",
        "import time\n",
        "from PIL import Image\n",
        "import RPi.GPIO as GPIO\n",
        "import time\n",
        "from pylibdmtx import pylibdmtx\n",
        "\n",
        "\n",
        "from keras_retinanet import models\n",
        "from keras_retinanet.utils.image import read_image_bgr, preprocess_image, resize_image\n",
        "from keras_retinanet.utils.visualization import draw_box, draw_caption\n",
        "from keras_retinanet.utils.colors import label_color\n",
        "import RPi.GPIO as GPIO"
      ],
      "execution_count": null,
      "outputs": []
    },
    {
      "cell_type": "code",
      "metadata": {
        "id": "jdcJgJLEKHiF"
      },
      "source": [
        "\n",
        "\n",
        "THRES_SCORE = 0.6 #accepter les prediction en haut de 60%\n",
        "\n",
        "L1=56   #longeur bras 1\n",
        "L2=70   #Longeur bras 2\n",
        "\n",
        "Current_angle1 = 90\n",
        "Current_angle2 = 0\n",
        "steps=1.8     #steps of stepper motor Nemma \n",
        "\n",
        "x1=43  #position du tapis des carte PASS\n",
        "y1=34\n",
        "x2=245 #position du tapis des carte SCRAP\n",
        "y2=475\n",
        "\n",
        "\n",
        "\n",
        "delay = 0.2 #vitess de rotation du motor\n",
        "\n",
        "widthpic=5   #largeur du field du camera\n",
        "widthpixel=2179 #largeur du resoltuon du camera\n",
        "heightpic=1303 #Hauteur du field du camera\n",
        "heightpixel=2  #Hauteur du resolution du camera\n",
        "Xcamera=0      #position du camera par rapport au repere du 1 moteur pas a pas\n",
        "Ycamera=0"
      ],
      "execution_count": null,
      "outputs": []
    },
    {
      "cell_type": "code",
      "metadata": {
        "id": "QUYOHy-zMEiF"
      },
      "source": [
        "ENA1 = 33 #moteur pas a pas 1\n",
        "IN1 = 35 #Clock\n",
        "IN2 = 37 #AntiClock\n",
        "\n",
        "ENA2 = 20  #moteur pas a pas 2\n",
        "IN3 = 21   #clock\n",
        "IN4 = 22   #Anticlock\n",
        "\n",
        "LS1 = 10   #limit switch 1\n",
        "LS2 = 11   #limit switch 2\n",
        "CP = 13 #Capteur de presence\n",
        "svm = 12 #Servo moteur\n",
        "Vaccum = 9 #Vacuum pump"
      ],
      "execution_count": null,
      "outputs": []
    },
    {
      "cell_type": "code",
      "metadata": {
        "id": "0hmWcVKwM1b1"
      },
      "source": [
        "GPIO.setup(10,GPIO.OUT)\n",
        "servo1 = GPIO.PWM(11,50) # pin 11 for servo1\n",
        "GPIO.setup(12,GPIO.OUT)\n",
        "servo2 = GPIO.PWM(12,50) # pin 12 for servo2\n",
        "GPIO.setmode(GPIO.BOARD)\n",
        "\n",
        "GPIO.setup(ENA1, GPIO.OUT, initial=GPIO.HIGH)#stepper motor 1\n",
        "GPIO.setup(IN1, GPIO.OUT, initial=GPIO.LOW)\n",
        "GPIO.setup(IN2, GPIO.OUT, initial=GPIO.LOW)\n",
        "\n",
        "GPIO.setup(ENA2, GPIO.OUT, initial=GPIO.HIGH)#stepper motor 2\n",
        "GPIO.setup(IN3, GPIO.OUT, initial=GPIO.LOW)\n",
        "GPIO.setup(IN4, GPIO.OUT, initial=GPIO.LOW)\n",
        "\n",
        "GPIO.setup(LS1, GPIO.IN, pull_up_down=GPIO.PUD_UP)#Limit switch\n",
        "GPIO.setup(LS2, GPIO.IN, pull_up_down=GPIO.PUD_UP)#Limit switch\n",
        "GPIO.setuo(CP, GPIO.IN,pull_up_down=GPIO.PUD_UP)#capteur de presence\n",
        "\n",
        "\n",
        "\n",
        "\n",
        "\n",
        "state1 = GPIO.input(LS1)\n",
        "state2 = GPIO.input(LS2)\n",
        "capteurpre = GPIO.input(CP)"
      ],
      "execution_count": null,
      "outputs": []
    },
    {
      "cell_type": "code",
      "metadata": {
        "id": "OHX_xNmtNRgO"
      },
      "source": [
        "model_path = r\"C:\\Users\\manas\\Desktop\\Rapport PFE\\resnet50_csv_50.h5\"\n",
        "print(model_path)\n",
        "\n",
        "model = models.load_model(model_path, backbone_name='resnet50')\n",
        "model = models.convert_model(model)"
      ],
      "execution_count": null,
      "outputs": []
    },
    {
      "cell_type": "code",
      "metadata": {
        "id": "2jEOo9jmN7yx"
      },
      "source": [
        "def find_cintroid_pcb(image):\n",
        "    img=cv2.cvtColor(image,cv2.COLOR_RGB2GRAY)\n",
        "\n",
        "    ret,thresh = cv2.threshold(img,127,255,0)\n",
        "    contours, hierarchy = cv2.findContours(thresh, cv2.RETR_EXTERNAL, cv2.CHAIN_APPROX_NONE)\n",
        "    c = max(contours, key = cv2.contourArea)\n",
        "    M = cv2.moments(c)\n",
        "    cx = int(M['m10']/M['m00'])\n",
        "    cy = int(M['m01']/M['m00'])\n",
        "    return cx,cy"
      ],
      "execution_count": null,
      "outputs": []
    },
    {
      "cell_type": "code",
      "metadata": {
        "id": "e-sUC0Y3OGi5"
      },
      "source": [
        "def initialiser():\n",
        "    While(state1):\n",
        "        GPIO.output(IN1, GPIO.LOW)\n",
        "        GPIO.output(IN2, GPIO.HIGH)\n",
        "        time.sleep(1)\n",
        "    While(State2):\n",
        "        GPIO.output(IN3, GPIO.LOW)\n",
        "        GPIO.output(IN4, GPIO.HIGH)\n",
        "        time.sleep(1)"
      ],
      "execution_count": null,
      "outputs": []
    },
    {
      "cell_type": "code",
      "metadata": {
        "id": "u1PQLHeHOX75"
      },
      "source": [
        "def Calculdesongles(x,y):\n",
        "    \n",
        " if(x>0):  \n",
        "    try:\n",
        "        \n",
        "         \n",
        "    \n",
        "             B=math.sqrt(x**2+y**2)\n",
        "             q1 = math.atan2(y,x)\n",
        "             q2 = math.acos((l1**2 + B**2 - l2**2)/(2*l1*B))\n",
        "             Angle1= math.degrees(q1)+math.degrees(q2)\n",
        "             Angle2 =180 - math.degrees(math.acos((l1**2+l2**2 - B**2 )/(2*l1*l2)))\n",
        "             return(Angle1,Angle2)\n",
        "    except:\n",
        "        initialiser()\n",
        "        \n",
        " else:\n",
        "        initialiser()"
      ],
      "execution_count": null,
      "outputs": []
    },
    {
      "cell_type": "code",
      "metadata": {
        "id": "UfpoBbHoOpKh"
      },
      "source": [
        "def angletosteps1(q):\n",
        "    if(q != Current_angle1):\n",
        "        if(q>0 and Current_angle1>0):\n",
        "            if(q>Current_angle1):\n",
        "                nsteps=(q-Current_angle1)/steps\n",
        "                GPIO.output(IN1, GPIO.HIGH)\n",
        "                Current_angle1=q\n",
        "            if(q<Current_angle1):\n",
        "                nsteps=(Current_angle1-q)/steps\n",
        "                GPIO.output(IN2, GPIO.HIGH)\n",
        "                Current_angle1=q\n",
        "        if(q<0 and Current_angle1>0):\n",
        "            nsteps=(abs(q)+Current_angle1)/steps\n",
        "            GPIO.output(IN2, GPIO.HIGH)\n",
        "            Current_angle1=q\n",
        "        if(q>0 and Current_angle1<0):\n",
        "            nsteps=(q+abs(Current_angle1))/steps\n",
        "            GPIO.output(IN1, GPIO.HIGH)\n",
        "            Current_angle1=q\n",
        "        if(q<0 and Current_angle1<0):\n",
        "            if(q>Current_angle1):\n",
        "                nsteps=(abs(q)-abs(Current_angle1))/steps\n",
        "                GPIO.output(IN1, GPIO.HIGH)\n",
        "                Current_angle1=q\n",
        "            if(q<Current_angle1):\n",
        "                nsteps=(abs(Current_angle1)-abs(q))/steps\n",
        "                GPIO.output(IN2, GPIO.HIGH)\n",
        "                Current_angle1=q\n",
        "    else:\n",
        "        nsteps1=0\n",
        "    return nsteps1"
      ],
      "execution_count": null,
      "outputs": []
    },
    {
      "cell_type": "code",
      "metadata": {
        "id": "heuZUadnO-yA"
      },
      "source": [
        "def angletosteps2(q):\n",
        "    if(q != Current_angle2):\n",
        "        if(q>0 and Current_angle2>0):\n",
        "            if(q>Current_angle2):\n",
        "                nsteps=(q-Current_angle2)/steps\n",
        "                GPIO.output(IN1, GPIO.HIGH)\n",
        "                Current_angle2=q\n",
        "            if(q<Current_angle2):\n",
        "                nsteps=(Current_angle2-q)/steps\n",
        "                GPIO.output(IN2, GPIO.HIGH)\n",
        "                Current_angle2=q\n",
        "\n",
        "        if(q<0 and Current_angle2>0):\n",
        "            nsteps=(abs(q)+Current_angle2)/steps\n",
        "            GPIO.output(IN2, GPIO.HIGH)\n",
        "            Current_angle2=q\n",
        "        if(q>0 and Current_angle2<0):\n",
        "            nsteps=(q+abs(Current_angle2))/steps\n",
        "            GPIO.output(IN1, GPIO.HIGH)\n",
        "            Current_angle2=q\n",
        "        if(q<0 and Current_angle2<0):\n",
        "            if(q>Current_angle2):\n",
        "                nsteps=(abs(q)-abs(Current_angle2))/steps\n",
        "                GPIO.output(IN1, GPIO.HIGH)\n",
        "                Current_angle2=q\n",
        "            if(q<Current_angle2):\n",
        "                nsteps=(abs(Current_angle2)-abs(q))/steps\n",
        "                GPIO.output(IN2, GPIO.HIGH) \n",
        "                Current_angle2=q\n",
        "    else:\n",
        "        nsteps2=0\n",
        "    return nsteps2"
      ],
      "execution_count": null,
      "outputs": []
    },
    {
      "cell_type": "code",
      "metadata": {
        "id": "9Tt2fG_-PSTh"
      },
      "source": [
        "def Turn_Motor1(nsteps):\n",
        "    for x in range(0,nsteps):\n",
        "        GPIO.output(EN1, GPIO.HIGH)\n",
        "        sleep(delay)\n",
        "        GPIO.output(EN1, GPIO.LOW)\n",
        "        sleep(delay)\n",
        "\n",
        "        \n",
        "\n",
        "\n",
        "# In[ ]:\n",
        "\n",
        "\n",
        "def Turn_Motor2(nsteps):\n",
        "    for x in range(0,nsteps):\n",
        "        GPIO.output(EN2, GPIO.HIGH)\n",
        "        sleep(delay)\n",
        "        GPIO.output(EN2, GPIO.LOW)\n",
        "        sleep(delay)"
      ],
      "execution_count": null,
      "outputs": []
    },
    {
      "cell_type": "code",
      "metadata": {
        "id": "g5rps7aPQC8d"
      },
      "source": [
        "def changereper(x,y):\n",
        "    x=x*widthpic/widthpixel\n",
        "    y=y*widthpic/widthpixel\n",
        "    x=Xcamera + x\n",
        "    y=Ycamera + y \n",
        "    return(x,y)"
      ],
      "execution_count": null,
      "outputs": []
    },
    {
      "cell_type": "code",
      "metadata": {
        "id": "0Y-slF63Qxx4"
      },
      "source": [
        "def predict(image):\n",
        "  image = preprocess_image(image.copy())\n",
        "  image, scale = resize_image(image)\n",
        "\n",
        "  boxes, scores, labels = model.predict_on_batch(\n",
        "    np.expand_dims(image, axis=0)\n",
        "  )\n",
        "\n",
        "  boxes /= scale\n",
        "\n",
        "  return boxes, scores, labels"
      ],
      "execution_count": null,
      "outputs": []
    },
    {
      "cell_type": "code",
      "metadata": {
        "id": "8-sSREwNRjja"
      },
      "source": [
        "def draw_detections(image, boxes, scores, labels):\n",
        "  for box, score, label in zip(boxes[0], scores[0], labels[0]):\n",
        "    if score < THRES_SCORE:\n",
        "        break\n",
        "    x,y=find_cintroid_pcb(image)\n",
        "    (x,y)=changereper(x,y)\n",
        "    processmouv(x,y)\n",
        "    breathIn()\n",
        "    b = box.astype(int)\n",
        "    crop_img = image[b[1]:b[3],b[0]:b[2]]\n",
        "    \n",
        "    \n",
        "    p=cv2.cvtColor(crop_img, cv2.COLOR_RGB2GRAY)\n",
        "    \n",
        "    msg = pylibdmtx.decode(p)\n",
        "    data=msg\n",
        "    Etat=CheckItac(data)\n",
        "    if(Etat):\n",
        "            processmouv(x1,y1)\n",
        "            breathOut()\n",
        "            \n",
        "    else:\n",
        "            processmouv(x2,y2)\n",
        "            breathOut()\n",
        "    \n",
        "    color = [0,0,0]\n",
        "   \n",
        "    draw_box(image, b, color=color)\n",
        "\n",
        "    caption = \"{}\".format(msg)\n",
        "    draw_caption(image, b, caption)"
      ],
      "execution_count": null,
      "outputs": []
    },
    {
      "cell_type": "code",
      "metadata": {
        "id": "FCRgDae1SJSp"
      },
      "source": [
        "def gstreamer_pipeline(\n",
        "    capture_width=3280,\n",
        "    capture_height=2464,\n",
        "    display_width=820,\n",
        "    display_height=616,\n",
        "    framerate=21,\n",
        "    flip_method=0,\n",
        "):\n",
        "    return (\n",
        "        \"nvarguscamerasrc ! \"\n",
        "        \"video/x-raw(memory:NVMM), \"\n",
        "        \"width=(int)%d, height=(int)%d, \"\n",
        "        \"format=(string)NV12, framerate=(fraction)%d/1 ! \"\n",
        "        \"nvvidconv flip-method=%d ! \"\n",
        "        \"video/x-raw, width=(int)%d, height=(int)%d, format=(string)BGRx ! \"\n",
        "        \"videoconvert ! \"\n",
        "        \"video/x-raw, format=(string)BGR ! appsink\"\n",
        "        % (\n",
        "            capture_width,\n",
        "            capture_height,\n",
        "            framerate,\n",
        "            flip_method,\n",
        "            display_width,\n",
        "            display_height,\n",
        "        )\n",
        "    )\n",
        "if(!capteurpre):\n",
        "    \n",
        "    cap = cv2.VideoCapture(gstreamer_pipeline(), cv2.CAP_GSTREAMER)\n",
        "    sleep(500)\n",
        "    if cap.isOpened():\n",
        "    \n",
        "        ret, img = cap.read()\n",
        "        cap.release()\n",
        "    draw=show_detected_objects(img) #draw au cas ou on a voulu visualiser le resultat"
      ],
      "execution_count": null,
      "outputs": []
    },
    {
      "cell_type": "code",
      "metadata": {
        "id": "eO3DUvRvYDrR"
      },
      "source": [
        "def processmouv(x,y):\n",
        "    (teta1,teta2)=Calculdesongles(x,y)\n",
        "    nstep1=angletosteps1(teta1)\n",
        "    nstep2=angletosteps2(teta2)\n",
        "    Turn_Motor1(nstep1)\n",
        "    Turn_Motor2(nstep2)\n",
        "    \n",
        "    \n",
        "    "
      ],
      "execution_count": null,
      "outputs": []
    }
  ]
}